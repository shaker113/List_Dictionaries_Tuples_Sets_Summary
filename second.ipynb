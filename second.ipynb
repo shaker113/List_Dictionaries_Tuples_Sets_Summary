{
 "cells": [
  {
   "attachments": {},
   "cell_type": "markdown",
   "metadata": {},
   "source": [
    "# the four data types used to store collection of data"
   ]
  },
  {
   "attachments": {},
   "cell_type": "markdown",
   "metadata": {},
   "source": [
    "## There are four collection data types in the Python programming language:\n",
    "\n",
    "* **List** : is a collection which is ordered and changeable. Allows duplicate members.\n",
    "* **Tuple** : is a collection which is ordered and unchangeable. Allows duplicate members.\n",
    "* **Set** : is a collection which is unordered, unchangeable ( items are unchangeable, but you can remove and/or add items whenever you like.) , and unindexed. No duplicate members.\n",
    "* **Dictionary** : is a collection which is ordered and changeable. No duplicate members."
   ]
  },
  {
   "attachments": {},
   "cell_type": "markdown",
   "metadata": {},
   "source": [
    "## lists"
   ]
  },
  {
   "attachments": {},
   "cell_type": "markdown",
   "metadata": {},
   "source": [
    "Lists are used to store multiple items in a single variable using []"
   ]
  },
  {
   "cell_type": "code",
   "execution_count": 278,
   "metadata": {},
   "outputs": [
    {
     "data": {
      "text/plain": [
       "['apple', 'banana', 'cherry']"
      ]
     },
     "execution_count": 278,
     "metadata": {},
     "output_type": "execute_result"
    }
   ],
   "source": [
    "mylist = [\"apple\", \"banana\", \"cherry\"]\n",
    "tropical = [\"mango\", \"pineapple\", \"papaya\"]\n",
    "mylist"
   ]
  },
  {
   "attachments": {},
   "cell_type": "markdown",
   "metadata": {},
   "source": [
    "### Access Items\n",
    "\n"
   ]
  },
  {
   "attachments": {},
   "cell_type": "markdown",
   "metadata": {},
   "source": [
    "* Negative indexing means start from the end\n",
    "* You can specify a range of indexes by specifying where to start and where to end the range.\n",
    "* len() :determine how many items"
   ]
  },
  {
   "cell_type": "code",
   "execution_count": 279,
   "metadata": {},
   "outputs": [
    {
     "name": "stdout",
     "output_type": "stream",
     "text": [
      "banana\n",
      "cherry\n",
      "['banana', 'cherry']\n",
      "['banana', 'cherry']\n"
     ]
    },
    {
     "data": {
      "text/plain": [
       "3"
      ]
     },
     "execution_count": 279,
     "metadata": {},
     "output_type": "execute_result"
    }
   ],
   "source": [
    "print(mylist[1])\n",
    "print(mylist[-1])\n",
    "print(mylist[1:3]) # start at index 1 (included) and end at index 3 (not included)\n",
    "print(mylist[1:])\n",
    "'apple' in mylist\n",
    "len(mylist)"
   ]
  },
  {
   "attachments": {},
   "cell_type": "markdown",
   "metadata": {},
   "source": [
    "### Change Item Value\n",
    "\n",
    "\n",
    "\n",
    "\n",
    "\n"
   ]
  },
  {
   "attachments": {},
   "cell_type": "markdown",
   "metadata": {},
   "source": [
    "#### Change Item Value or Range of Item Values"
   ]
  },
  {
   "cell_type": "code",
   "execution_count": 280,
   "metadata": {},
   "outputs": [
    {
     "name": "stdout",
     "output_type": "stream",
     "text": [
      "['apple', 'blackcurrant', 'cherry']\n",
      "['apple', 'blackcurrant', 'watermelon']\n",
      "['apple', 'watermelon']\n"
     ]
    }
   ],
   "source": [
    "mylist[1]='blackcurrant'\n",
    "print(mylist)\n",
    "mylist[1:3] = [\"blackcurrant\", \"watermelon\"]\n",
    "print(mylist)\n",
    "mylist[1:3] = [\"watermelon\"]\n",
    "print(mylist)"
   ]
  },
  {
   "attachments": {},
   "cell_type": "markdown",
   "metadata": {},
   "source": [
    "#### add new value\n",
    "\n"
   ]
  },
  {
   "attachments": {},
   "cell_type": "markdown",
   "metadata": {},
   "source": [
    "* To insert a new list item, without replacing any of the existing values, we can use the insert(index,object) method.((at the specified index))\n",
    "* To add an item to the end of the list, use the append(object)\n",
    "* To append elements from another list to the current list, use the extend(list[object]) method."
   ]
  },
  {
   "cell_type": "code",
   "execution_count": 281,
   "metadata": {},
   "outputs": [
    {
     "name": "stdout",
     "output_type": "stream",
     "text": [
      "['apple', 'banana', 'watermelon']\n",
      "['apple', 'banana', 'watermelon', 'orange']\n",
      "['apple', 'banana', 'watermelon', 'orange', 'mango', 'pineapple', 'papaya']\n"
     ]
    }
   ],
   "source": [
    "mylist.insert(1,'banana')\n",
    "print(mylist)\n",
    "mylist.append(\"orange\")\n",
    "print(mylist)\n",
    "mylist.extend(tropical)\n",
    "print(mylist)\n",
    "\n"
   ]
  },
  {
   "attachments": {},
   "cell_type": "markdown",
   "metadata": {},
   "source": [
    "#### remove list items\n",
    "\n",
    "\n",
    "\n",
    "\n",
    "\n"
   ]
  },
  {
   "attachments": {},
   "cell_type": "markdown",
   "metadata": {},
   "source": [
    "* The remove() method removes the specified item.\n",
    "\n",
    "* The pop() method removes the specified index.(If you do not specify the index, the pop() method removes the last item)\n",
    "* The del keyword also removes the specified index ,The del keyword can also delete the list completely.\n",
    "* The clear() method empties the list.(The list still remains, but it has no content.)\n"
   ]
  },
  {
   "cell_type": "code",
   "execution_count": 282,
   "metadata": {},
   "outputs": [
    {
     "name": "stdout",
     "output_type": "stream",
     "text": [
      "['apple', 'watermelon', 'orange', 'mango', 'pineapple', 'papaya']\n",
      "['apple', 'orange', 'mango', 'pineapple', 'papaya']\n",
      "['apple', 'orange', 'mango', 'pineapple']\n",
      "['apple', 'orange', 'pineapple']\n",
      "[]\n"
     ]
    }
   ],
   "source": [
    "mylist.remove(\"banana\")\n",
    "print(mylist)\n",
    "mylist.pop(1)\n",
    "print(mylist)\n",
    "mylist.pop()\n",
    "print(mylist)\n",
    "del mylist[2]\n",
    "print(mylist)\n",
    "mylist.clear()\n",
    "print(mylist)\n",
    "del mylist  # delete the whole list\n",
    "\n",
    "\n",
    "mylist = [\"apple\",  \"banana\", \"kiwi\",\"cherry\", \"mango\"] # to reassign values for the next functions\n"
   ]
  },
  {
   "attachments": {},
   "cell_type": "markdown",
   "metadata": {},
   "source": [
    "### List Comprehension\n"
   ]
  },
  {
   "attachments": {},
   "cell_type": "markdown",
   "metadata": {},
   "source": [
    "List comprehension offers a shorter syntax when you want to create a new list based on the values of an existing list.it is useful way of quickly creating lists whose contents obey a rule.\n",
    "\n",
    "**The Syntax**\n",
    "\n",
    "newlist = [expression for item in iterable if condition == True]\n",
    "\n",
    "The condition is like a filter that only accepts the items that valuate to True.\n",
    "* The expression is the current item in the iteration, but it is also the outcome, which you can manipulate before it ends up like a list item in the new list\n"
   ]
  },
  {
   "cell_type": "code",
   "execution_count": 283,
   "metadata": {},
   "outputs": [
    {
     "name": "stdout",
     "output_type": "stream",
     "text": [
      "['apple', 'banana', 'kiwi', 'cherry', 'mango']\n",
      "['apple', 'banana', 'kiwi', 'cherry', 'mango']\n",
      "['apple', 'banana', 'mango']\n",
      "['banana', 'kiwi', 'cherry', 'mango']\n",
      "['APPLE', 'BANANA', 'KIWI', 'CHERRY', 'MANGO']\n",
      "['apple', 'orange', 'kiwi', 'cherry', 'mango']\n"
     ]
    }
   ],
   "source": [
    "print( mylist)\n",
    "print([x for x in mylist])\n",
    "print([x for x in mylist if \"a\" in x])\n",
    "print([x for x in mylist if x != \"apple\"])\n",
    "print([x.upper() for x in mylist])\n",
    "print([x if x != \"banana\" else \"orange\" for x in mylist])"
   ]
  },
  {
   "attachments": {},
   "cell_type": "markdown",
   "metadata": {},
   "source": [
    "### sort lists\n"
   ]
  },
  {
   "attachments": {},
   "cell_type": "markdown",
   "metadata": {},
   "source": [
    "* sort() :method that will sort the list alphanumerically, ascending, by default.\n",
    "  (case sensitive, resulting in all capital letters being sorted before lower case letters)\n",
    "* To sort descending, use the keyword argument reverse = True\n",
    "* key = function : argument to customize your own sorting function\n",
    "* reverse() : everses the current sorting order of the elements."
   ]
  },
  {
   "cell_type": "code",
   "execution_count": 284,
   "metadata": {},
   "outputs": [
    {
     "name": "stdout",
     "output_type": "stream",
     "text": [
      "['apple', 'banana', 'kiwi', 'cherry', 'mango']\n",
      "['apple', 'banana', 'cherry', 'kiwi', 'mango']\n",
      "['mango', 'kiwi', 'cherry', 'banana', 'apple']\n",
      "['banana', 'apple', 'kiwi', 'mango', 'cherry']\n",
      "['cherry', 'mango', 'kiwi', 'apple', 'banana']\n"
     ]
    }
   ],
   "source": [
    "print(mylist)\n",
    "mylist.sort()\n",
    "print(mylist)\n",
    "mylist.sort(reverse = True)\n",
    "print(mylist)\n",
    "mylist.sort(key = lambda x:x[-1] ) # sorting by the latest letter\n",
    "print(mylist)\n",
    "mylist.reverse()\n",
    "print(mylist)\n"
   ]
  },
  {
   "attachments": {},
   "cell_type": "markdown",
   "metadata": {},
   "source": [
    "### copy lists\n"
   ]
  },
  {
   "attachments": {},
   "cell_type": "markdown",
   "metadata": {},
   "source": [
    "You cannot copy a list simply by typing list2 = list1, because: list2 will only be a reference to list1, and changes made in list1 will automatically also be made in list2.\n",
    "* copy() : method to copy a list\n",
    "* list() : method to copy a list"
   ]
  },
  {
   "cell_type": "code",
   "execution_count": 285,
   "metadata": {},
   "outputs": [
    {
     "name": "stdout",
     "output_type": "stream",
     "text": [
      "['cherry', 'mango', 'kiwi', 'apple', 'banana']\n",
      "['cherry', 'mango', 'kiwi', 'apple', 'banana']\n"
     ]
    }
   ],
   "source": [
    "thislist = mylist.copy()\n",
    "print(thislist)\n",
    "thislist = list(mylist)\n",
    "print(thislist)\n"
   ]
  },
  {
   "attachments": {},
   "cell_type": "markdown",
   "metadata": {},
   "source": [
    "### Join Lists"
   ]
  },
  {
   "attachments": {},
   "cell_type": "markdown",
   "metadata": {},
   "source": [
    "## Dictionaries "
   ]
  },
  {
   "attachments": {},
   "cell_type": "markdown",
   "metadata": {},
   "source": [
    "Dictionaries are used to store data values in key:value pairs.\n",
    "\n",
    "A dictionary is a collection which is ordered, changeable and do not allow duplicates.\n",
    "* fromkeys() : method returns a dictionary with the specified keys and the specified value.(value\tOptional. The value for all keys. Default value is None)"
   ]
  },
  {
   "cell_type": "code",
   "execution_count": 286,
   "metadata": {},
   "outputs": [
    {
     "name": "stdout",
     "output_type": "stream",
     "text": [
      "{'name': 'John', 'age': 36, 'country': 'Norway'}\n",
      "{'brand': 'Ford', 'model': 'Mustang', 'year': 2020}\n",
      "{'key1': 0, 'key2': 0, 'key3': 0}\n"
     ]
    }
   ],
   "source": [
    "thisdict = dict(name = \"John\", age = 36, country = \"Norway\")\n",
    "print(thisdict)\n",
    "mydict = {\n",
    "  \"brand\": \"Ford\",\n",
    "  \"model\": \"Mustang\",\n",
    "  \"year\": 1964,  \n",
    "  \"year\": 2020\n",
    "}\n",
    "print(mydict)\n",
    "x = ('key1', 'key2', 'key3')\n",
    "y = 0\n",
    "\n",
    "thisdict = dict.fromkeys(x, y)\n",
    "print(thisdict)"
   ]
  },
  {
   "attachments": {},
   "cell_type": "markdown",
   "metadata": {},
   "source": [
    "### Access Dictionary Items"
   ]
  },
  {
   "attachments": {},
   "cell_type": "markdown",
   "metadata": {},
   "source": [
    "* You can access the items of a dictionary by referring to its key name, inside square brackets\n",
    "\n",
    "* get() : method gets a value from its key\n",
    "\n",
    "* keys() : method will return a list of all the keys in the dictionary.\n",
    "\n",
    "* values() : method will return a list of all the values in the dictionary.\n",
    "\n",
    "* items() : method will return each item in a dictionary, as tuples in a list.\n",
    "\n",
    "* in : keyword to determine if a specified key is present in a dictionary\n",
    "* setdefault() : method returns the value of the item with the specified key.if the key does not exist, insert the key, with the specified value"
   ]
  },
  {
   "cell_type": "code",
   "execution_count": 287,
   "metadata": {},
   "outputs": [
    {
     "name": "stdout",
     "output_type": "stream",
     "text": [
      "2020\n",
      "Mustang\n",
      "dict_keys(['brand', 'model', 'year'])\n",
      "dict_values(['Ford', 'Mustang', 2020])\n",
      "dict_items([('brand', 'Ford'), ('model', 'Mustang'), ('year', 2020)])\n",
      "2020\n",
      "2000\n"
     ]
    }
   ],
   "source": [
    "print(mydict[\"year\"])\n",
    "print(mydict.get(\"model\"))\n",
    "print(mydict.keys())\n",
    "print(mydict.values())\n",
    "print(mydict.items())\n",
    "\"model\" in mydict\n",
    "print(mydict.setdefault('year',2000))\n",
    "print(mydict.setdefault('_year',2000))"
   ]
  },
  {
   "attachments": {},
   "cell_type": "markdown",
   "metadata": {},
   "source": [
    "### Change Dictionary Items"
   ]
  },
  {
   "attachments": {},
   "cell_type": "markdown",
   "metadata": {},
   "source": [
    "* change the value of a specific item by referring to its key\n",
    "* update() method will update the dictionary with the items from the given argument.\n"
   ]
  },
  {
   "cell_type": "code",
   "execution_count": 288,
   "metadata": {},
   "outputs": [
    {
     "name": "stdout",
     "output_type": "stream",
     "text": [
      "{'brand': 'Ford', 'model': 'Mustang', 'year': 2018, '_year': 2000}\n",
      "{'brand': 'Ford', 'model': 'Mustang', 'year': 2020, '_year': 2000}\n"
     ]
    }
   ],
   "source": [
    "mydict[\"year\"] = 2018\n",
    "print(mydict)\n",
    "mydict.update({\"year\":2020})\n",
    "print(mydict)\n"
   ]
  },
  {
   "attachments": {},
   "cell_type": "markdown",
   "metadata": {},
   "source": [
    "### Add Dictionary Items"
   ]
  },
  {
   "attachments": {},
   "cell_type": "markdown",
   "metadata": {},
   "source": [
    "* update() : method will update the dictionary with the items from a given argument. If the item does not exist, the item will be \n",
    "* dding an item to the dictionary is done by using a new index key and assigning a value to it"
   ]
  },
  {
   "cell_type": "code",
   "execution_count": 289,
   "metadata": {},
   "outputs": [
    {
     "name": "stdout",
     "output_type": "stream",
     "text": [
      "{'brand': 'Ford', 'model': 'Mustang', 'year': 2020, '_year': 2000, 'color': 'red'}\n",
      "{'brand': 'Ford', 'model': 'Mustang', 'year': 2020, '_year': 2000, 'color': 'red', 'location': 'Jordan'}\n"
     ]
    }
   ],
   "source": [
    "mydict.update({'color':'red'})\n",
    "print(mydict)\n",
    "mydict[\"location\"] = \"Jordan\"\n",
    "print(mydict)\n"
   ]
  },
  {
   "attachments": {},
   "cell_type": "markdown",
   "metadata": {},
   "source": [
    "### Remove Dictionary Items "
   ]
  },
  {
   "attachments": {},
   "cell_type": "markdown",
   "metadata": {},
   "source": [
    "* pop() : method removes the item with the specified key name\n",
    "\n",
    "* popitem() : method removes the last inserted item\n",
    "\n",
    "* del keyword removes the dictionary completely or item with the specified key name\n",
    "\n",
    "* clear() : method empties the dictionary"
   ]
  },
  {
   "cell_type": "code",
   "execution_count": 290,
   "metadata": {},
   "outputs": [
    {
     "name": "stdout",
     "output_type": "stream",
     "text": [
      "{'brand': 'Ford', 'model': 'Mustang', 'year': 2020, '_year': 2000, 'color': 'red'}\n",
      "{'brand': 'Ford', 'model': 'Mustang', 'year': 2020, '_year': 2000}\n",
      "{'brand': 'Ford', 'model': 'Mustang', '_year': 2000}\n",
      "{}\n"
     ]
    }
   ],
   "source": [
    "mydict.pop('location')\n",
    "print(mydict)\n",
    "mydict.popitem()\n",
    "print(mydict)\n",
    "del mydict['year']\n",
    "print(mydict)\n",
    "mydict.clear()\n",
    "print(mydict)\n",
    "del mydict"
   ]
  },
  {
   "attachments": {},
   "cell_type": "markdown",
   "metadata": {},
   "source": [
    "### Copy Dictionaries"
   ]
  },
  {
   "attachments": {},
   "cell_type": "markdown",
   "metadata": {},
   "source": [
    "You cannot copy a dictionary simply by typing dict2 = dict1, because: dict2 will only be a reference to dict1, and changes made in dict1 will automatically also be made in dict2.\n",
    "\n",
    "* copy() : method Make a copy of a dictionary\n",
    "\n",
    "* dict() : function Make a copy of a dictionary"
   ]
  },
  {
   "attachments": {},
   "cell_type": "markdown",
   "metadata": {},
   "source": [
    "## Tuples "
   ]
  },
  {
   "attachments": {},
   "cell_type": "markdown",
   "metadata": {},
   "source": [
    "A tuple is a collection which is ordered and unchangeable.\n",
    "\n",
    "Tuples are written with round brackets.\n",
    "\n",
    "Tuple items are \n",
    "- ordered :the items have a defined order, and that order will not change \n",
    "- unchangeable (immutable) : we cannot change, add or remove items after the tuple has been created \n",
    "- allow duplicate values.\n",
    "\n"
   ]
  },
  {
   "cell_type": "code",
   "execution_count": 291,
   "metadata": {},
   "outputs": [
    {
     "name": "stdout",
     "output_type": "stream",
     "text": [
      "('apple', 'banana', 'cherry')\n",
      "('apple', 'banana', 'cherry', 'apple', 'cherry')\n"
     ]
    }
   ],
   "source": [
    "mytuple = tuple((\"apple\", \"banana\", \"cherry\")) # note the double round-brackets\n",
    "print(mytuple)\n",
    "mytuple = (\"apple\", \"banana\", \"cherry\", \"apple\", \"cherry\") \n",
    "print(mytuple)\n"
   ]
  },
  {
   "attachments": {},
   "cell_type": "markdown",
   "metadata": {},
   "source": [
    "### Access Tuple Items\n"
   ]
  },
  {
   "attachments": {},
   "cell_type": "markdown",
   "metadata": {},
   "source": [
    "* You can access tuple items by referring to the index number, inside square brackets\n",
    "* Negative indexing means start from the end.\n",
    "* index() : Searches the tuple for a specified value and returns the position of where it was found\n",
    "* count() : Returns the number of times a specified value occurs in a tuple\n",
    "\n",
    "**Note**: When creating a tuple with only one item, remember to include a comma after the item, otherwise it will not be identified as a tuple."
   ]
  },
  {
   "cell_type": "code",
   "execution_count": 292,
   "metadata": {},
   "outputs": [
    {
     "name": "stdout",
     "output_type": "stream",
     "text": [
      "banana\n",
      "cherry\n",
      "('cherry', 'apple', 'cherry')\n",
      "2\n",
      "2\n"
     ]
    }
   ],
   "source": [
    "print(mytuple[1])\n",
    "print(mytuple[-1])\n",
    "print(mytuple[2:5]) # return tuple\n",
    "'apple' in mytuple # Check if Item Exists\n",
    "print(mytuple.index('cherry'))\n",
    "print(mytuple.count('apple'))\n"
   ]
  },
  {
   "attachments": {},
   "cell_type": "markdown",
   "metadata": {},
   "source": [
    "### Update Tuples\n",
    "\n"
   ]
  },
  {
   "attachments": {},
   "cell_type": "markdown",
   "metadata": {},
   "source": [
    "* to add or remove items from tuple you can convert the tuple into a list, change the list, and convert the list back into a tuple.\n",
    "* Add tuple to a tuple.\n",
    "* del : keyword can delete the tuple completely\n"
   ]
  },
  {
   "cell_type": "code",
   "execution_count": 293,
   "metadata": {},
   "outputs": [
    {
     "name": "stdout",
     "output_type": "stream",
     "text": [
      "('apple', 'banana', 'cherry', 'apple', 'cherry', 'orange')\n"
     ]
    }
   ],
   "source": [
    "x=(\"orange\",) # the , to make the data type tuple not str\n",
    "mytuple+=x \n",
    "print(mytuple)\n",
    "del x"
   ]
  },
  {
   "attachments": {},
   "cell_type": "markdown",
   "metadata": {},
   "source": [
    "### Unpack Tuples\n"
   ]
  },
  {
   "attachments": {},
   "cell_type": "markdown",
   "metadata": {},
   "source": [
    "* When we create a tuple, we normally assign values to it. This is called \"packing\" a tuple\n",
    "* we are also allowed to extract the values back into variables. This is called \"unpacking\" ((The number of variables must match the number of values in the tuple))\n",
    "* *: If the number of variables is less than the number of values, you can add an * to the variable name and the values will be assigned to the variable as a list"
   ]
  },
  {
   "cell_type": "code",
   "execution_count": 294,
   "metadata": {},
   "outputs": [
    {
     "name": "stdout",
     "output_type": "stream",
     "text": [
      "apple cherry orange\n",
      "apple ['banana', 'cherry', 'apple', 'cherry'] orange\n"
     ]
    }
   ],
   "source": [
    "(t1,t2,t3,t4,t5,t6) = mytuple\n",
    "print(t1,t3,t6)\n",
    "(t1,*t2,t3) = mytuple\n",
    "print(t1,t2,t3)\n"
   ]
  },
  {
   "attachments": {},
   "cell_type": "markdown",
   "metadata": {},
   "source": [
    "### Join Tuples\n"
   ]
  },
  {
   "attachments": {},
   "cell_type": "markdown",
   "metadata": {},
   "source": [
    "* \\+ :To join two or more tuples you can use the + operator\n",
    "* \\* :To multiply the content of a tuple a given number of times, you can use the * operator"
   ]
  },
  {
   "cell_type": "code",
   "execution_count": 295,
   "metadata": {},
   "outputs": [
    {
     "name": "stdout",
     "output_type": "stream",
     "text": [
      "('apple', 'banana', 'cherry', 'apple', 'cherry', 'orange', 1, 2, 3)\n",
      "(1, 2, 3, 1, 2, 3, 1, 2, 3)\n"
     ]
    }
   ],
   "source": [
    "print(mytuple+(1,2,3))\n",
    "print((1,2,3)*3)"
   ]
  },
  {
   "attachments": {},
   "cell_type": "markdown",
   "metadata": {},
   "source": [
    "## Sets"
   ]
  },
  {
   "attachments": {},
   "cell_type": "markdown",
   "metadata": {},
   "source": [
    "* Unordered : the items in a set do not have a defined order ,set items can appear in a different order every time you use them, and cannot be referred to by index or key.\n",
    "* Unchangeable : we cannot change the items after the set has been created.\n",
    "* Duplicates Not Allowed \n",
    "* Sets are written with curly brackets.\n"
   ]
  },
  {
   "cell_type": "code",
   "execution_count": 296,
   "metadata": {},
   "outputs": [
    {
     "name": "stdout",
     "output_type": "stream",
     "text": [
      "{'cherry', 'banana', 'apple'}\n",
      "{'cherry', 'banana', 'apple'}\n"
     ]
    }
   ],
   "source": [
    "myset = set((\"apple\", \"banana\", \"cherry\", \"apple\"))\n",
    "print(myset)\n",
    "myset = {\"apple\", \"banana\", \"cherry\", \"apple\"}\n",
    "print(myset)"
   ]
  },
  {
   "attachments": {},
   "cell_type": "markdown",
   "metadata": {},
   "source": [
    "### Access Set Items\n",
    "\n",
    "\n"
   ]
  },
  {
   "attachments": {},
   "cell_type": "markdown",
   "metadata": {},
   "source": [
    "**Note** : You cannot access items in a set by referring to an index or a key."
   ]
  },
  {
   "cell_type": "code",
   "execution_count": 297,
   "metadata": {},
   "outputs": [
    {
     "name": "stdout",
     "output_type": "stream",
     "text": [
      "cherry\n",
      "banana\n",
      "apple\n"
     ]
    },
    {
     "data": {
      "text/plain": [
       "True"
      ]
     },
     "execution_count": 297,
     "metadata": {},
     "output_type": "execute_result"
    }
   ],
   "source": [
    "for x in myset:\n",
    "    print(x)\n",
    "\"banana\" in myset"
   ]
  },
  {
   "attachments": {},
   "cell_type": "markdown",
   "metadata": {},
   "source": [
    "###  Add Set Items\n"
   ]
  },
  {
   "attachments": {},
   "cell_type": "markdown",
   "metadata": {},
   "source": [
    "- add() : method to add one item to a set use the\n",
    "* update() : method to add items from another set into the current set\n",
    "\n",
    "**Note** : The object in the update() method does not have to be a set, it can be any iterable object (tuples, lists, dictionaries etc.)."
   ]
  },
  {
   "cell_type": "code",
   "execution_count": 298,
   "metadata": {},
   "outputs": [
    {
     "name": "stdout",
     "output_type": "stream",
     "text": [
      "{'cherry', 'banana', 'orange', 'apple'}\n",
      "{'banana', 'apple', 'cherry', 'orange', 'mango', 'papaya', 'pineapple'}\n"
     ]
    }
   ],
   "source": [
    "myset.add('orange')\n",
    "print(myset)\n",
    "myset.update({'pineapple','orange', 'mango', 'papaya'})\n",
    "print(myset)"
   ]
  },
  {
   "attachments": {},
   "cell_type": "markdown",
   "metadata": {},
   "source": [
    "### Remove Set Items\n"
   ]
  },
  {
   "attachments": {},
   "cell_type": "markdown",
   "metadata": {},
   "source": [
    "* remove() : method To remove an item in a set\n",
    "* discard() : method To remove an item in a set\n",
    "* pop() : method remove a random item *((The return value is the removed item))*\n",
    "* clear() : method empties the set\n",
    "* del : keyword will delete the set completely\n",
    "\n",
    "**Note**: If the item to remove does not exist, discard() will NOT raise an error."
   ]
  },
  {
   "cell_type": "code",
   "execution_count": 299,
   "metadata": {},
   "outputs": [
    {
     "name": "stdout",
     "output_type": "stream",
     "text": [
      "{'banana', 'apple', 'cherry', 'orange', 'mango', 'papaya', 'pineapple'}\n",
      "{'apple', 'cherry', 'orange', 'mango', 'papaya', 'pineapple'}\n",
      "{'apple', 'cherry', 'orange', 'mango', 'pineapple'}\n",
      "apple\n",
      "set()\n"
     ]
    }
   ],
   "source": [
    "print(myset)\n",
    "myset.remove('banana')\n",
    "print(myset)\n",
    "myset.discard('papaya')\n",
    "print(myset)\n",
    "print(myset.pop())\n",
    "myset.clear()\n",
    "print(myset)\n",
    "del myset"
   ]
  },
  {
   "attachments": {},
   "cell_type": "markdown",
   "metadata": {},
   "source": [
    "### joining sets\n"
   ]
  },
  {
   "attachments": {},
   "cell_type": "markdown",
   "metadata": {},
   "source": [
    "*Sets can be combined using mathematical operations.*\n",
    "* union() method or union operator | combines two sets to form a new one containing items in either. \n",
    "\n",
    "* intersection() method or intersection operator & gets items only in both. \n",
    "\n",
    "* symmetric_difference() method or The symmetric difference operator ^ gets items in either set, but not both.\n",
    "* The difference operator - gets items in the first set but not in the second. \n",
    " "
   ]
  },
  {
   "cell_type": "code",
   "execution_count": 300,
   "metadata": {},
   "outputs": [
    {
     "name": "stdout",
     "output_type": "stream",
     "text": [
      "{1, 2, 3, 4, 5, 6, 7, 8, 9}\n",
      "{1, 2, 3, 4, 5, 6, 7, 8, 9}\n",
      "{4, 5, 6}\n",
      "{4, 5, 6}\n",
      "{1, 2, 3, 7, 8, 9}\n",
      "{1, 2, 3, 7, 8, 9}\n",
      "{1, 2, 3}\n",
      "{8, 9, 7}\n"
     ]
    }
   ],
   "source": [
    "first = {1, 2, 3, 4, 5, 6}\n",
    "second = {4, 5, 6, 7, 8, 9}\n",
    "\n",
    "print(first | second)\n",
    "print(first.union(second)) # same as update it will exclude any duplicate items.\n",
    "\n",
    "print(first & second)\n",
    "print(first.intersection(second))\n",
    "\n",
    "print(first ^ second)\n",
    "print(first.symmetric_difference(second))\n",
    "\n",
    "print(first - second)\n",
    "print(second - first)\n"
   ]
  },
  {
   "attachments": {},
   "cell_type": "markdown",
   "metadata": {},
   "source": [
    "### check if the set "
   ]
  },
  {
   "attachments": {},
   "cell_type": "markdown",
   "metadata": {},
   "source": [
    "* isdisjoint() : Returns whether two sets have a intersection or not *(returns True if none of the items are present in both sets, otherwise it returns False.)*\n",
    "\n",
    "* issubset() : Returns whether another set contains this set or not *(eturns True if all items in the set exists in the specified set, otherwise it retuns False.)*\n",
    "\n",
    "* issuperset() : Returns whether this set contains another set or not *(True if all items in the specified set exists in the original set, otherwise it retuns False)*"
   ]
  },
  {
   "cell_type": "code",
   "execution_count": 301,
   "metadata": {},
   "outputs": [
    {
     "name": "stdout",
     "output_type": "stream",
     "text": [
      "False\n",
      "False\n",
      "False\n"
     ]
    }
   ],
   "source": [
    "print(first.isdisjoint(second))\n",
    "print(first.issubset(second))\n",
    "print(first.issuperset(second))"
   ]
  },
  {
   "attachments": {},
   "cell_type": "markdown",
   "metadata": {},
   "source": [
    "## When to use a dictionary:\n",
    "- When you need a logical association between a key:value pair.\n",
    "\n",
    "- When you need fast lookup for your data, based on a custom key.\n",
    "\n",
    "- When your data is being constantly modified. Remember, dictionaries are mutable.\n",
    "\n",
    "## When to use the other types:\n",
    "- Use lists if you have a collection of data that does not need random access. Try to choose lists when you need a simple, iterable collection that is modified frequently.\n",
    "\n",
    "- Use a set if you need uniqueness for the elements. \n",
    "\n",
    "- Use tuples when your data cannot/should not change."
   ]
  }
 ],
 "metadata": {
  "kernelspec": {
   "display_name": "Python 3",
   "language": "python",
   "name": "python3"
  },
  "language_info": {
   "codemirror_mode": {
    "name": "ipython",
    "version": 3
   },
   "file_extension": ".py",
   "mimetype": "text/x-python",
   "name": "python",
   "nbconvert_exporter": "python",
   "pygments_lexer": "ipython3",
   "version": "3.10.9"
  },
  "orig_nbformat": 4,
  "vscode": {
   "interpreter": {
    "hash": "84fd2673a0f847bf80637898000f9b4175f2ffd476d5f31b41a838c2acdb5b76"
   }
  }
 },
 "nbformat": 4,
 "nbformat_minor": 2
}
