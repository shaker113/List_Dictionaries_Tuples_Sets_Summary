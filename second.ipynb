{
 "cells": [
  {
   "attachments": {},
   "cell_type": "markdown",
   "metadata": {},
   "source": [
    "# the four data types used to store collection of data"
   ]
  },
  {
   "attachments": {},
   "cell_type": "markdown",
   "metadata": {},
   "source": [
    "## lists"
   ]
  },
  {
   "attachments": {},
   "cell_type": "markdown",
   "metadata": {},
   "source": [
    "Lists are used to store multiple items in a single variable using []"
   ]
  },
  {
   "cell_type": "code",
   "execution_count": 1,
   "metadata": {},
   "outputs": [
    {
     "data": {
      "text/plain": [
       "['apple', 'banana', 'cherry']"
      ]
     },
     "execution_count": 1,
     "metadata": {},
     "output_type": "execute_result"
    }
   ],
   "source": [
    "mylist = [\"apple\", \"banana\", \"cherry\"]\n",
    "tropical = [\"mango\", \"pineapple\", \"papaya\"]\n",
    "mylist"
   ]
  },
  {
   "attachments": {},
   "cell_type": "markdown",
   "metadata": {},
   "source": [
    "### Access Items\n",
    "* Negative indexing means start from the end\n",
    "* You can specify a range of indexes by specifying where to start and where to end the range.\n",
    "\n"
   ]
  },
  {
   "cell_type": "code",
   "execution_count": 12,
   "metadata": {},
   "outputs": [
    {
     "name": "stdout",
     "output_type": "stream",
     "text": [
      "banana\n",
      "cherry\n",
      "['banana', 'cherry']\n",
      "['banana', 'cherry']\n"
     ]
    },
    {
     "data": {
      "text/plain": [
       "True"
      ]
     },
     "execution_count": 12,
     "metadata": {},
     "output_type": "execute_result"
    }
   ],
   "source": [
    "print(mylist[1])\n",
    "print(mylist[-1])\n",
    "print(mylist[1:3])\n",
    "print(mylist[1:])\n",
    "'apple' in mylist"
   ]
  },
  {
   "attachments": {},
   "cell_type": "markdown",
   "metadata": {},
   "source": [
    "### Change Item Value\n",
    "\n",
    "\n",
    "\n",
    "\n",
    "\n"
   ]
  },
  {
   "attachments": {},
   "cell_type": "markdown",
   "metadata": {},
   "source": [
    "#### Change Item Value or Range of Item Values"
   ]
  },
  {
   "cell_type": "code",
   "execution_count": 13,
   "metadata": {},
   "outputs": [
    {
     "name": "stdout",
     "output_type": "stream",
     "text": [
      "['apple', 'blackcurrant', 'cherry']\n",
      "['apple', 'blackcurrant', 'watermelon']\n",
      "['apple', 'watermelon']\n"
     ]
    }
   ],
   "source": [
    "mylist[1]='blackcurrant'\n",
    "print(mylist)\n",
    "mylist[1:3] = [\"blackcurrant\", \"watermelon\"]\n",
    "print(mylist)\n",
    "mylist[1:3] = [\"watermelon\"]\n",
    "print(mylist)"
   ]
  },
  {
   "attachments": {},
   "cell_type": "markdown",
   "metadata": {},
   "source": [
    "#### add new value\n",
    "* To insert a new list item, without replacing any of the existing values, we can use the insert(index,object) method.((at the specified index))\n",
    "* To add an item to the end of the list, use the append(object)\n",
    "* To append elements from another list to the current list, use the extend(list[object]) method.\n"
   ]
  },
  {
   "cell_type": "code",
   "execution_count": 14,
   "metadata": {},
   "outputs": [
    {
     "name": "stdout",
     "output_type": "stream",
     "text": [
      "['apple', 'banana', 'watermelon']\n",
      "['apple', 'banana', 'watermelon', 'orange']\n",
      "['apple', 'banana', 'watermelon', 'orange', 'mango', 'pineapple', 'papaya']\n"
     ]
    }
   ],
   "source": [
    "mylist.insert(1,'banana')\n",
    "print(mylist)\n",
    "mylist.append(\"orange\")\n",
    "print(mylist)\n",
    "mylist.extend(tropical)\n",
    "print(mylist)\n",
    "\n"
   ]
  },
  {
   "attachments": {},
   "cell_type": "markdown",
   "metadata": {},
   "source": [
    "#### remove list items\n",
    "* The remove() method removes the specified item.\n",
    "\n",
    "* The pop() method removes the specified index.(If you do not specify the index, the pop() method removes the last item)\n",
    "* The del keyword also removes the specified index ,The del keyword can also delete the list completely.\n",
    "* The clear() method empties the list.(The list still remains, but it has no content.)\n",
    "\n",
    "\n",
    "\n",
    "\n",
    "\n"
   ]
  },
  {
   "cell_type": "code",
   "execution_count": 15,
   "metadata": {},
   "outputs": [
    {
     "name": "stdout",
     "output_type": "stream",
     "text": [
      "['apple', 'watermelon', 'orange', 'mango', 'pineapple', 'papaya']\n",
      "['apple', 'orange', 'mango', 'pineapple', 'papaya']\n",
      "['apple', 'orange', 'mango', 'pineapple']\n",
      "['apple', 'orange', 'pineapple']\n",
      "[]\n"
     ]
    }
   ],
   "source": [
    "mylist.remove(\"banana\")\n",
    "print(mylist)\n",
    "mylist.pop(1)\n",
    "print(mylist)\n",
    "mylist.pop()\n",
    "print(mylist)\n",
    "del mylist[2]\n",
    "print(mylist)\n",
    "mylist.clear()\n",
    "print(mylist)\n",
    "del mylist  # delete the whole list\n",
    "\n",
    "\n",
    "mylist = [\"apple\",  \"banana\", \"kiwi\",\"cherry\", \"mango\"] # to reassign values for the next functions\n"
   ]
  },
  {
   "attachments": {},
   "cell_type": "markdown",
   "metadata": {},
   "source": [
    "### List Comprehension\n",
    "List comprehension offers a shorter syntax when you want to create a new list based on the values of an existing list.it is useful way of quickly creating lists whose contents obey a rule.\n",
    "\n",
    "**The Syntax**\n",
    "\n",
    "newlist = [expression for item in iterable if condition == True]\n",
    "\n",
    "The condition is like a filter that only accepts the items that valuate to True.\n",
    "* The expression is the current item in the iteration, but it is also the outcome, which you can manipulate before it ends up like a list item in the new list\n"
   ]
  },
  {
   "cell_type": "code",
   "execution_count": 16,
   "metadata": {},
   "outputs": [
    {
     "name": "stdout",
     "output_type": "stream",
     "text": [
      "['apple', 'banana', 'kiwi', 'cherry', 'mango']\n",
      "['apple', 'banana', 'kiwi', 'cherry', 'mango']\n",
      "['apple', 'banana', 'mango']\n",
      "['banana', 'kiwi', 'cherry', 'mango']\n",
      "['APPLE', 'BANANA', 'KIWI', 'CHERRY', 'MANGO']\n",
      "['apple', 'orange', 'kiwi', 'cherry', 'mango']\n"
     ]
    }
   ],
   "source": [
    "print( mylist)\n",
    "print([x for x in mylist])\n",
    "print([x for x in mylist if \"a\" in x])\n",
    "print([x for x in mylist if x != \"apple\"])\n",
    "print([x.upper() for x in mylist])\n",
    "print([x if x != \"banana\" else \"orange\" for x in mylist])"
   ]
  },
  {
   "attachments": {},
   "cell_type": "markdown",
   "metadata": {},
   "source": [
    "### sort lists\n",
    "* sort() :method that will sort the list alphanumerically, ascending, by default.\n",
    "  (case sensitive, resulting in all capital letters being sorted before lower case letters)\n",
    "* To sort descending, use the keyword argument reverse = True\n",
    "* key = function : argument to customize your own sorting function\n",
    "* reverse() : everses the current sorting order of the elements."
   ]
  },
  {
   "cell_type": "code",
   "execution_count": 24,
   "metadata": {},
   "outputs": [
    {
     "name": "stdout",
     "output_type": "stream",
     "text": [
      "['cherry', 'mango', 'kiwi', 'apple', 'banana']\n",
      "['apple', 'banana', 'cherry', 'kiwi', 'mango']\n",
      "['mango', 'kiwi', 'cherry', 'banana', 'apple']\n",
      "['banana', 'apple', 'kiwi', 'mango', 'cherry']\n",
      "['cherry', 'mango', 'kiwi', 'apple', 'banana']\n"
     ]
    }
   ],
   "source": [
    "print(mylist)\n",
    "mylist.sort()\n",
    "print(mylist)\n",
    "mylist.sort(reverse = True)\n",
    "print(mylist)\n",
    "mylist.sort(key = lambda x:x[-1] ) # sorting by the latest letter\n",
    "print(mylist)\n",
    "mylist.reverse()\n",
    "print(mylist)\n"
   ]
  },
  {
   "attachments": {},
   "cell_type": "markdown",
   "metadata": {},
   "source": [
    "### copy lists\n",
    "You cannot copy a list simply by typing list2 = list1, because: list2 will only be a reference to list1, and changes made in list1 will automatically also be made in list2.\n",
    "* copy() : method to copy a list\n",
    "* list() : method to copy a list"
   ]
  },
  {
   "cell_type": "code",
   "execution_count": 26,
   "metadata": {},
   "outputs": [
    {
     "name": "stdout",
     "output_type": "stream",
     "text": [
      "['cherry', 'mango', 'kiwi', 'apple', 'banana']\n",
      "['cherry', 'mango', 'kiwi', 'apple', 'banana']\n"
     ]
    }
   ],
   "source": [
    "thislist = mylist.copy()\n",
    "print(thislist)\n",
    "thislist = list(mylist)\n",
    "print(thislist)\n"
   ]
  },
  {
   "attachments": {},
   "cell_type": "markdown",
   "metadata": {},
   "source": [
    "### Join Lists"
   ]
  },
  {
   "attachments": {},
   "cell_type": "markdown",
   "metadata": {},
   "source": [
    "## Dictionaries "
   ]
  },
  {
   "attachments": {},
   "cell_type": "markdown",
   "metadata": {},
   "source": [
    "## Tuples "
   ]
  },
  {
   "attachments": {},
   "cell_type": "markdown",
   "metadata": {},
   "source": [
    "## Sets"
   ]
  },
  {
   "attachments": {},
   "cell_type": "markdown",
   "metadata": {},
   "source": [
    "### joining sets\n",
    "*Sets can be combined using mathematical operations.*\n",
    "* The union operator | combines two sets to form a new one containing items in either. \n",
    "\n",
    "* The intersection operator & gets items only in both. \n",
    "\n",
    "* The difference operator - gets items in the first set but not in the second. \n",
    "\n",
    "* The symmetric difference operator ^ gets items in either set, but not both. "
   ]
  },
  {
   "cell_type": "code",
   "execution_count": 3,
   "metadata": {},
   "outputs": [
    {
     "name": "stdout",
     "output_type": "stream",
     "text": [
      "{1, 2, 3, 4, 5, 6, 7, 8, 9}\n",
      "{4, 5, 6}\n",
      "{1, 2, 3}\n",
      "{8, 9, 7}\n",
      "{1, 2, 3, 7, 8, 9}\n",
      "{3}\n"
     ]
    }
   ],
   "source": [
    "first = {1, 2, 3, 4, 5, 6}\n",
    "second = {4, 5, 6, 7, 8, 9}\n",
    "\n",
    "print(first | second)\n",
    "print(first & second)\n",
    "print(first - second)\n",
    "print(second - first)\n",
    "print(first ^ second)\n"
   ]
  },
  {
   "attachments": {},
   "cell_type": "markdown",
   "metadata": {},
   "source": [
    "## When to use a dictionary:\n",
    "- When you need a logical association between a key:value pair.\n",
    "\n",
    "- When you need fast lookup for your data, based on a custom key.\n",
    "\n",
    "- When your data is being constantly modified. Remember, dictionaries are mutable.\n",
    "\n",
    "## When to use the other types:\n",
    "- Use lists if you have a collection of data that does not need random access. Try to choose lists when you need a simple, iterable collection that is modified frequently.\n",
    "\n",
    "- Use a set if you need uniqueness for the elements. \n",
    "\n",
    "- Use tuples when your data cannot/should not change."
   ]
  },
  {
   "cell_type": "code",
   "execution_count": 8,
   "metadata": {},
   "outputs": [
    {
     "name": "stdout",
     "output_type": "stream",
     "text": [
      "44\n"
     ]
    }
   ],
   "source": [
    "nums = (55, 44, 33, 22)\n",
    "print(max(min(nums[:2]), abs(-4002)))"
   ]
  }
 ],
 "metadata": {
  "kernelspec": {
   "display_name": "Python 3",
   "language": "python",
   "name": "python3"
  },
  "language_info": {
   "codemirror_mode": {
    "name": "ipython",
    "version": 3
   },
   "file_extension": ".py",
   "mimetype": "text/x-python",
   "name": "python",
   "nbconvert_exporter": "python",
   "pygments_lexer": "ipython3",
   "version": "3.10.9"
  },
  "orig_nbformat": 4,
  "vscode": {
   "interpreter": {
    "hash": "84fd2673a0f847bf80637898000f9b4175f2ffd476d5f31b41a838c2acdb5b76"
   }
  }
 },
 "nbformat": 4,
 "nbformat_minor": 2
}
